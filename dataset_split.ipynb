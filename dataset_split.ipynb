{
 "cells": [
  {
   "cell_type": "markdown",
   "id": "4ea1f2db",
   "metadata": {},
   "source": [
    "# Dataset Splitting for CT-MRI Fusion\n",
    "\n",
    "This notebook splits the CT-MRI dataset into train and test sets with proper randomization and creates permanent folder structures for consistent evaluation across all methods."
   ]
  },
  {
   "cell_type": "code",
   "execution_count": 1,
   "id": "5939c6d8",
   "metadata": {},
   "outputs": [
    {
     "name": "stdout",
     "output_type": "stream",
     "text": [
      "Libraries imported successfully!\n"
     ]
    }
   ],
   "source": [
    "# Import Required Libraries\n",
    "import os\n",
    "import shutil\n",
    "import random\n",
    "import numpy as np\n",
    "from pathlib import Path\n",
    "from sklearn.model_selection import train_test_split\n",
    "import matplotlib.pyplot as plt\n",
    "\n",
    "# Set random seed for reproducibility\n",
    "random.seed(42)\n",
    "np.random.seed(42)\n",
    "\n",
    "print(\"Libraries imported successfully!\")"
   ]
  },
  {
   "cell_type": "code",
   "execution_count": 2,
   "id": "84d50c22",
   "metadata": {},
   "outputs": [
    {
     "name": "stdout",
     "output_type": "stream",
     "text": [
      "Loading CT-MRI dataset...\n",
      "Found 573 CT images\n",
      "Found 573 MRI images\n",
      "Total valid pairs: 573\n",
      "Sample filenames: ['16003.png', '16004.png', '16005.png', '16006.png', '16007.png']\n"
     ]
    }
   ],
   "source": [
    "# Load and Analyze Dataset\n",
    "print(\"Loading CT-MRI dataset...\")\n",
    "\n",
    "# Define paths\n",
    "dataset_root = Path(\"Dataset/CT-MRI\")\n",
    "ct_dir = dataset_root / \"CT\"\n",
    "mri_dir = dataset_root / \"MRI\"\n",
    "\n",
    "# Get all image pairs\n",
    "ct_files = sorted(list(ct_dir.glob(\"*.png\")))\n",
    "mri_files = sorted(list(mri_dir.glob(\"*.png\")))\n",
    "\n",
    "print(f\"Found {len(ct_files)} CT images\")\n",
    "print(f\"Found {len(mri_files)} MRI images\")\n",
    "\n",
    "# Create pairs list\n",
    "image_pairs = []\n",
    "for ct_file in ct_files:\n",
    "    mri_file = mri_dir / ct_file.name\n",
    "    if mri_file.exists():\n",
    "        image_pairs.append((str(ct_file), str(mri_file)))\n",
    "    else:\n",
    "        print(f\"Warning: No matching MRI for {ct_file.name}\")\n",
    "\n",
    "print(f\"Total valid pairs: {len(image_pairs)}\")\n",
    "\n",
    "# Extract filenames for splitting\n",
    "filenames = [os.path.basename(pair[0]) for pair in image_pairs]\n",
    "print(f\"Sample filenames: {filenames[:5]}\")"
   ]
  },
  {
   "cell_type": "code",
   "execution_count": 3,
   "id": "cdec0eb3",
   "metadata": {},
   "outputs": [
    {
     "name": "stdout",
     "output_type": "stream",
     "text": [
      "Splitting dataset into train and test sets...\n",
      "Total images: 573\n",
      "Train images: 400 (69.8%)\n",
      "Validation images: 58 (10.1%)\n",
      "Test images: 115 (20.1%)\n",
      "Train-Val overlap: 0\n",
      "Train-Test overlap: 0\n",
      "Val-Test overlap: 0\n"
     ]
    }
   ],
   "source": [
    "# Split Dataset into Train and Test\n",
    "print(\"Splitting dataset into train and test sets...\")\n",
    "\n",
    "# Define split ratio\n",
    "test_size = 0.2  # 20% for testing, 80% for training\n",
    "val_size = 0.1   # 10% of training for validation\n",
    "\n",
    "# First split: train+val and test\n",
    "train_val_files, test_files = train_test_split(\n",
    "    filenames, \n",
    "    test_size=test_size, \n",
    "    random_state=42,\n",
    "    shuffle=True\n",
    ")\n",
    "\n",
    "# Second split: train and val from train+val\n",
    "train_files, val_files = train_test_split(\n",
    "    train_val_files,\n",
    "    test_size=val_size / (1 - test_size),  # Adjust for proportion\n",
    "    random_state=42,\n",
    "    shuffle=True\n",
    ")\n",
    "\n",
    "print(f\"Total images: {len(filenames)}\")\n",
    "print(f\"Train images: {len(train_files)} ({len(train_files)/len(filenames)*100:.1f}%)\")\n",
    "print(f\"Validation images: {len(val_files)} ({len(val_files)/len(filenames)*100:.1f}%)\")\n",
    "print(f\"Test images: {len(test_files)} ({len(test_files)/len(filenames)*100:.1f}%)\")\n",
    "\n",
    "# Verify no overlap\n",
    "train_set = set(train_files)\n",
    "val_set = set(val_files)\n",
    "test_set = set(test_files)\n",
    "\n",
    "print(f\"Train-Val overlap: {len(train_set & val_set)}\")\n",
    "print(f\"Train-Test overlap: {len(train_set & test_set)}\")\n",
    "print(f\"Val-Test overlap: {len(val_set & test_set)}\")"
   ]
  },
  {
   "cell_type": "code",
   "execution_count": 4,
   "id": "9363c51a",
   "metadata": {},
   "outputs": [
    {
     "name": "stdout",
     "output_type": "stream",
     "text": [
      "Creating folder structure and copying files...\n",
      "Copying 400 files to train set...\n",
      "Copying 58 files to validation set...\n",
      "Copying 115 files to test set...\n",
      "File copying completed!\n",
      "train: 400 CT, 400 MRI images\n",
      "val: 58 CT, 58 MRI images\n",
      "test: 115 CT, 115 MRI images\n"
     ]
    }
   ],
   "source": [
    "# Create Folder Structure and Copy Files\n",
    "print(\"Creating folder structure and copying files...\")\n",
    "\n",
    "# Define new structure\n",
    "base_dir = Path(\"Dataset\")\n",
    "train_dir = base_dir / \"train\"\n",
    "val_dir = base_dir / \"val\"\n",
    "test_dir = base_dir / \"test\"\n",
    "\n",
    "# Create directories\n",
    "for split_dir in [train_dir, val_dir, test_dir]:\n",
    "    (split_dir / \"CT\").mkdir(parents=True, exist_ok=True)\n",
    "    (split_dir / \"MRI\").mkdir(parents=True, exist_ok=True)\n",
    "\n",
    "# Function to copy files for a split\n",
    "def copy_files(file_list, split_name, split_dir):\n",
    "    print(f\"Copying {len(file_list)} files to {split_name} set...\")\n",
    "    for filename in file_list:\n",
    "        # Copy CT file\n",
    "        src_ct = ct_dir / filename\n",
    "        dst_ct = split_dir / \"CT\" / filename\n",
    "        if src_ct.exists():\n",
    "            shutil.copy2(src_ct, dst_ct)\n",
    "        \n",
    "        # Copy MRI file\n",
    "        src_mri = mri_dir / filename\n",
    "        dst_mri = split_dir / \"MRI\" / filename\n",
    "        if src_mri.exists():\n",
    "            shutil.copy2(src_mri, dst_mri)\n",
    "\n",
    "# Copy files\n",
    "copy_files(train_files, \"train\", train_dir)\n",
    "copy_files(val_files, \"validation\", val_dir)\n",
    "copy_files(test_files, \"test\", test_dir)\n",
    "\n",
    "print(\"File copying completed!\")\n",
    "\n",
    "# Verify counts\n",
    "for split_name, split_dir in [(\"train\", train_dir), (\"val\", val_dir), (\"test\", test_dir)]:\n",
    "    ct_count = len(list((split_dir / \"CT\").glob(\"*.png\")))\n",
    "    mri_count = len(list((split_dir / \"MRI\").glob(\"*.png\")))\n",
    "    print(f\"{split_name}: {ct_count} CT, {mri_count} MRI images\")"
   ]
  },
  {
   "cell_type": "code",
   "execution_count": 5,
   "id": "40166615",
   "metadata": {},
   "outputs": [
    {
     "name": "stdout",
     "output_type": "stream",
     "text": [
      "Saving split information for reproducibility...\n",
      "Split information saved to Dataset/split_info.json\n",
      "\n",
      "=== SPLIT SUMMARY ===\n",
      "Total images: 573\n",
      "Train: 400 (69.8%)\n",
      "Validation: 58 (10.1%)\n",
      "Test: 115 (20.1%)\n",
      "\n",
      "New folder structure:\n",
      "Dataset/\n",
      "├── train/CT/     (CT training images)\n",
      "├── train/MRI/    (MRI training images)\n",
      "├── val/CT/       (CT validation images)\n",
      "├── val/MRI/      (MRI validation images)\n",
      "├── test/CT/      (CT test images)\n",
      "├── test/MRI/     (MRI test images)\n",
      "└── split_info.json (split metadata)\n"
     ]
    }
   ],
   "source": [
    "# Save Split Information\n",
    "print(\"Saving split information for reproducibility...\")\n",
    "\n",
    "import json\n",
    "\n",
    "split_info = {\n",
    "    \"total_images\": len(filenames),\n",
    "    \"train_count\": len(train_files),\n",
    "    \"val_count\": len(val_files),\n",
    "    \"test_count\": len(test_files),\n",
    "    \"train_ratio\": len(train_files) / len(filenames),\n",
    "    \"val_ratio\": len(val_files) / len(filenames),\n",
    "    \"test_ratio\": len(test_files) / len(filenames),\n",
    "    \"random_seed\": 42,\n",
    "    \"train_files\": sorted(train_files),\n",
    "    \"val_files\": sorted(val_files),\n",
    "    \"test_files\": sorted(test_files)\n",
    "}\n",
    "\n",
    "# Save to JSON\n",
    "with open(\"Dataset/split_info.json\", \"w\") as f:\n",
    "    json.dump(split_info, f, indent=2)\n",
    "\n",
    "print(\"Split information saved to Dataset/split_info.json\")\n",
    "\n",
    "# Display summary\n",
    "print(\"\\n=== SPLIT SUMMARY ===\")\n",
    "print(f\"Total images: {split_info['total_images']}\")\n",
    "print(f\"Train: {split_info['train_count']} ({split_info['train_ratio']*100:.1f}%)\")\n",
    "print(f\"Validation: {split_info['val_count']} ({split_info['val_ratio']*100:.1f}%)\")\n",
    "print(f\"Test: {split_info['test_count']} ({split_info['test_ratio']*100:.1f}%)\")\n",
    "print(\"\\nNew folder structure:\")\n",
    "print(\"Dataset/\")\n",
    "print(\"├── train/CT/     (CT training images)\")\n",
    "print(\"├── train/MRI/    (MRI training images)\")\n",
    "print(\"├── val/CT/       (CT validation images)\")\n",
    "print(\"├── val/MRI/      (MRI validation images)\")\n",
    "print(\"├── test/CT/      (CT test images)\")\n",
    "print(\"├── test/MRI/     (MRI test images)\")\n",
    "print(\"└── split_info.json (split metadata)\")"
   ]
  }
 ],
 "metadata": {
  "kernelspec": {
   "display_name": "ml",
   "language": "python",
   "name": "python3"
  },
  "language_info": {
   "codemirror_mode": {
    "name": "ipython",
    "version": 3
   },
   "file_extension": ".py",
   "mimetype": "text/x-python",
   "name": "python",
   "nbconvert_exporter": "python",
   "pygments_lexer": "ipython3",
   "version": "3.10.18"
  }
 },
 "nbformat": 4,
 "nbformat_minor": 5
}
